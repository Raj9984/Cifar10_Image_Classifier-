{
  "nbformat": 4,
  "nbformat_minor": 0,
  "metadata": {
    "colab": {
      "provenance": [],
      "gpuType": "T4",
      "include_colab_link": true
    },
    "kernelspec": {
      "name": "python3",
      "display_name": "Python 3"
    },
    "language_info": {
      "name": "python"
    },
    "accelerator": "GPU"
  },
  "cells": [
    {
      "cell_type": "markdown",
      "metadata": {
        "id": "view-in-github",
        "colab_type": "text"
      },
      "source": [
        "<a href=\"https://colab.research.google.com/github/Raj9984/Cifar10_Image_Classifier-/blob/main/CNN_Based_Classifier.ipynb\" target=\"_parent\"><img src=\"https://colab.research.google.com/assets/colab-badge.svg\" alt=\"Open In Colab\"/></a>"
      ]
    },
    {
      "cell_type": "code",
      "execution_count": null,
      "metadata": {
        "id": "Xr3mxO5Ko_D1"
      },
      "outputs": [],
      "source": [
        "import tensorflow as tf\n",
        "from tensorflow.keras import datasets, layers, models\n",
        "import matplotlib.pyplot as plt\n",
        "import numpy as np"
      ]
    },
    {
      "cell_type": "code",
      "source": [
        "(x_train, y_train), (x_test, y_test) = datasets.cifar10.load_data()\n",
        "x_train.shape"
      ],
      "metadata": {
        "colab": {
          "base_uri": "https://localhost:8080/"
        },
        "id": "F40OEPEWp1W1",
        "outputId": "1469672d-f715-4468-949a-96b5709067f1"
      },
      "execution_count": null,
      "outputs": [
        {
          "output_type": "execute_result",
          "data": {
            "text/plain": [
              "(50000, 32, 32, 3)"
            ]
          },
          "metadata": {},
          "execution_count": 13
        }
      ]
    },
    {
      "cell_type": "code",
      "source": [
        "y_train = y_train.reshape(-1,)\n",
        "classes = [\"airplane\", \"automobile\", \"bird\", \"cat\", \"deer\", \"dog\", \"frog\", \"horse\", \"ship\", \"truck\"]"
      ],
      "metadata": {
        "id": "J-nJBk-SqWzb"
      },
      "execution_count": null,
      "outputs": []
    },
    {
      "cell_type": "code",
      "source": [
        "def plot_sample(x,y,index):\n",
        "    plt.figure(figsize = (15,2))\n",
        "    plt.imshow(x[index])\n",
        "    plt.xlabel(classes[y[index]])"
      ],
      "metadata": {
        "id": "ZUJYhxZUrRAE"
      },
      "execution_count": null,
      "outputs": []
    },
    {
      "cell_type": "code",
      "source": [
        "plot_sample(x_train,y_train,6)"
      ],
      "metadata": {
        "colab": {
          "base_uri": "https://localhost:8080/",
          "height": 237
        },
        "id": "EdpMb_0VwBX-",
        "outputId": "9033d12d-5233-41db-b369-3323ccb4398b"
      },
      "execution_count": null,
      "outputs": [
        {
          "output_type": "display_data",
          "data": {
            "text/plain": [
              "<Figure size 1500x200 with 1 Axes>"
            ],
            "image/png": "[encoded data removed]"
          },
          "metadata": {}
        }
      ]
    },
    {
      "cell_type": "markdown",
      "source": [
        "## Normalising all the values in the X_Train dataset -> dividing by 255 so that their value comes in 0-1 range."
      ],
      "metadata": {
        "id": "kMqfjAk8wb01"
      }
    },
    {
      "cell_type": "code",
      "source": [
        "x_train = x_train / 255.0\n",
        "x_test = x_test / 255.0"
      ],
      "metadata": {
        "id": "CyXR1kb6wV5F"
      },
      "execution_count": null,
      "outputs": []
    },
    {
      "cell_type": "markdown",
      "source": [
        "## Model Building and Training"
      ],
      "metadata": {
        "id": "S-Qkzut7xUmZ"
      }
    },
    {
      "cell_type": "code",
      "source": [
        "model = models.Sequential([layers.Flatten(input_shape=(32,32,3)),\n",
        "                          layers.Dense(3000, activation = 'relu'),\n",
        "                          layers.Dense(1000, activation = 'relu'),\n",
        "                          layers.Dense(10, activation = 'sigmoid')])\n",
        "\n",
        "model.compile(optimizer = 'SGD',\n",
        "              loss = 'sparse_categorical_crossentropy',\n",
        "              metrics = ['accuracy'] )\n",
        "#when output is one-hot encoded we use categorical_crossentropy and when the output is a\n",
        "# specific value then we use sparse_categorical_crossentropy.\n",
        "model.fit(x_train, y_train, epochs = 8)"
      ],
      "metadata": {
        "colab": {
          "base_uri": "https://localhost:8080/"
        },
        "id": "ClFPaXPLxZNF",
        "outputId": "c2d66fe9-fd52-4671-fa7f-4063b2d08a83"
      },
      "execution_count": null,
      "outputs": [
        {
          "output_type": "stream",
          "name": "stdout",
          "text": [
            "Epoch 1/8\n",
            "1563/1563 [==============================] - 9s 5ms/step - loss: 1.8120 - accuracy: 0.3535\n",
            "Epoch 2/8\n",
            "1563/1563 [==============================] - 7s 4ms/step - loss: 1.6223 - accuracy: 0.4245\n",
            "Epoch 3/8\n",
            "1563/1563 [==============================] - 8s 5ms/step - loss: 1.5399 - accuracy: 0.4558\n",
            "Epoch 4/8\n",
            "1563/1563 [==============================] - 7s 4ms/step - loss: 1.4799 - accuracy: 0.4770\n",
            "Epoch 5/8\n",
            "1563/1563 [==============================] - 7s 5ms/step - loss: 1.4304 - accuracy: 0.4940\n",
            "Epoch 6/8\n",
            "1563/1563 [==============================] - 7s 5ms/step - loss: 1.3888 - accuracy: 0.5105\n",
            "Epoch 7/8\n",
            "1563/1563 [==============================] - 7s 4ms/step - loss: 1.3490 - accuracy: 0.5265\n",
            "Epoch 8/8\n",
            "1563/1563 [==============================] - 8s 5ms/step - loss: 1.3149 - accuracy: 0.5374\n"
          ]
        },
        {
          "output_type": "execute_result",
          "data": {
            "text/plain": [
              "<keras.src.callbacks.History at 0x7a1610d3ba90>"
            ]
          },
          "metadata": {},
          "execution_count": 7
        }
      ]
    },
    {
      "cell_type": "code",
      "source": [
        "model.evaluate(x_test, y_test)"
      ],
      "metadata": {
        "colab": {
          "base_uri": "https://localhost:8080/"
        },
        "id": "wAqsljwbLniz",
        "outputId": "3d244859-7cf7-40c1-b3af-b8e07f687e6d"
      },
      "execution_count": null,
      "outputs": [
        {
          "output_type": "stream",
          "name": "stdout",
          "text": [
            "313/313 [==============================] - 1s 3ms/step - loss: 1.3941 - accuracy: 0.5077\n"
          ]
        },
        {
          "output_type": "execute_result",
          "data": {
            "text/plain": [
              "[1.3940726518630981, 0.5077000260353088]"
            ]
          },
          "metadata": {},
          "execution_count": 8
        }
      ]
    },
    {
      "cell_type": "code",
      "source": [
        "from sklearn.metrics import confusion_matrix, classification_report\n",
        "import numpy as np\n",
        "y_pred = model.predict(x_test)\n",
        "y_pred_classes = [np.argmax(element) for element in y_pred]\n",
        "print(\"Classification Report: \\n\", classification_report(y_test, y_pred_classes))"
      ],
      "metadata": {
        "id": "4DhODLGsMMzz",
        "colab": {
          "base_uri": "https://localhost:8080/"
        },
        "outputId": "f1f89403-e797-45ba-e041-3d6d37b679af"
      },
      "execution_count": null,
      "outputs": [
        {
          "output_type": "stream",
          "name": "stdout",
          "text": [
            "313/313 [==============================] - 1s 2ms/step\n",
            "Classification Report: \n",
            "               precision    recall  f1-score   support\n",
            "\n",
            "           0       0.52      0.62      0.56      1000\n",
            "           1       0.60      0.69      0.64      1000\n",
            "           2       0.52      0.18      0.27      1000\n",
            "           3       0.37      0.28      0.32      1000\n",
            "           4       0.58      0.26      0.36      1000\n",
            "           5       0.36      0.53      0.43      1000\n",
            "           6       0.51      0.61      0.56      1000\n",
            "           7       0.51      0.64      0.57      1000\n",
            "           8       0.61      0.67      0.64      1000\n",
            "           9       0.55      0.60      0.57      1000\n",
            "\n",
            "    accuracy                           0.51     10000\n",
            "   macro avg       0.51      0.51      0.49     10000\n",
            "weighted avg       0.51      0.51      0.49     10000\n",
            "\n"
          ]
        }
      ]
    },
    {
      "cell_type": "code",
      "source": [
        "cnn = models.Sequential([\n",
        "    layers.Conv2D(filters=64, kernel_size=(3, 3), activation='relu', input_shape=(32, 32, 3)),\n",
        "    layers.MaxPooling2D((2, 2)),\n",
        "\n",
        "    layers.Conv2D(filters=64, kernel_size=(3, 3), activation='relu'),\n",
        "    layers.MaxPooling2D((2, 2)),\n",
        "\n",
        "    layers.Flatten(),\n",
        "    layers.Dense(64, activation='relu'),\n",
        "    layers.Dense(10, activation='softmax')\n",
        "    ])"
      ],
      "metadata": {
        "id": "TzzlI-4jsNNg"
      },
      "execution_count": null,
      "outputs": []
    },
    {
      "cell_type": "code",
      "source": [
        "cnn.compile(optimizer = 'adam', loss = 'sparse_categorical_crossentropy', metrics = ['accuracy'])"
      ],
      "metadata": {
        "id": "xoq6carXtXJ9"
      },
      "execution_count": null,
      "outputs": []
    },
    {
      "cell_type": "code",
      "source": [
        "cnn.fit(x_train, y_train, epochs = 10)"
      ],
      "metadata": {
        "colab": {
          "base_uri": "https://localhost:8080/"
        },
        "id": "VEmE51Gutorg",
        "outputId": "70de7ea8-678d-4b49-96bb-ec8bf9a7146b"
      },
      "execution_count": null,
      "outputs": [
        {
          "output_type": "stream",
          "name": "stdout",
          "text": [
            "Epoch 1/10\n",
            "1563/1563 [==============================] - 8s 4ms/step - loss: 1.4870 - accuracy: 0.4613\n",
            "Epoch 2/10\n",
            "1563/1563 [==============================] - 5s 3ms/step - loss: 1.1329 - accuracy: 0.6005\n",
            "Epoch 3/10\n",
            "1563/1563 [==============================] - 7s 4ms/step - loss: 1.0005 - accuracy: 0.6523\n",
            "Epoch 4/10\n",
            "1563/1563 [==============================] - 6s 4ms/step - loss: 0.9165 - accuracy: 0.6816\n",
            "Epoch 5/10\n",
            "1563/1563 [==============================] - 6s 4ms/step - loss: 0.8590 - accuracy: 0.7014\n",
            "Epoch 6/10\n",
            "1563/1563 [==============================] - 6s 4ms/step - loss: 0.8050 - accuracy: 0.7204\n",
            "Epoch 7/10\n",
            "1563/1563 [==============================] - 7s 4ms/step - loss: 0.7687 - accuracy: 0.7328\n",
            "Epoch 8/10\n",
            "1563/1563 [==============================] - 6s 4ms/step - loss: 0.7327 - accuracy: 0.7459\n",
            "Epoch 9/10\n",
            "1563/1563 [==============================] - 6s 4ms/step - loss: 0.6972 - accuracy: 0.7575\n",
            "Epoch 10/10\n",
            "1563/1563 [==============================] - 6s 4ms/step - loss: 0.6658 - accuracy: 0.7674\n"
          ]
        },
        {
          "output_type": "execute_result",
          "data": {
            "text/plain": [
              "<keras.src.callbacks.History at 0x7a153520ed10>"
            ]
          },
          "metadata": {},
          "execution_count": 24
        }
      ]
    },
    {
      "cell_type": "code",
      "source": [
        "cnn.evaluate(x_test,y_test)"
      ],
      "metadata": {
        "colab": {
          "base_uri": "https://localhost:8080/"
        },
        "id": "w7AgazrCwFSf",
        "outputId": "100785d9-7154-48d5-93d4-c81f834da1e3"
      },
      "execution_count": null,
      "outputs": [
        {
          "output_type": "stream",
          "name": "stdout",
          "text": [
            "313/313 [==============================] - 1s 3ms/step - loss: 0.9016 - accuracy: 0.6939\n"
          ]
        },
        {
          "output_type": "execute_result",
          "data": {
            "text/plain": [
              "[0.9016270637512207, 0.6938999891281128]"
            ]
          },
          "metadata": {},
          "execution_count": 25
        }
      ]
    },
    {
      "cell_type": "code",
      "source": [
        "y_test = y_test.reshape(-1)\n",
        "plot_sample(x_test,y_test,1)"
      ],
      "metadata": {
        "colab": {
          "base_uri": "https://localhost:8080/",
          "height": 237
        },
        "id": "FjGELHizw32o",
        "outputId": "20931b70-0d21-4d58-d14a-c6ebd805f6ca"
      },
      "execution_count": null,
      "outputs": [
        {
          "output_type": "display_data",
          "data": {
            "text/plain": [
              "<Figure size 1500x200 with 1 Axes>"
            ],
            "image/png": "[encoded data removed]"
          },
          "metadata": {}
        }
      ]
    },
    {
      "cell_type": "code",
      "source": [
        "ans_test = cnn.predict(x_test)\n",
        "ans_test_classes = [np.argmax(element) for element in ans_test[:3]]\n",
        "for ind in y_test[:3] :\n",
        "    print(classes[ind])\n",
        "\n",
        "for ind in ans_test_classes:\n",
        "    print(classes[ind])"
      ],
      "metadata": {
        "colab": {
          "base_uri": "https://localhost:8080/"
        },
        "id": "w9fhB1VXxm_b",
        "outputId": "eb2ce3cf-057c-4fa2-bccf-824d5dccf1ad"
      },
      "execution_count": null,
      "outputs": [
        {
          "output_type": "stream",
          "name": "stdout",
          "text": [
            "313/313 [==============================] - 1s 4ms/step\n",
            "cat\n",
            "ship\n",
            "ship\n",
            "cat\n",
            "ship\n",
            "ship\n"
          ]
        }
      ]
    }
  ]
}